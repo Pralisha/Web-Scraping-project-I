{
 "cells": [
  {
   "cell_type": "markdown",
   "id": "0be62dfb-83dd-446d-8111-2813b980fe5d",
   "metadata": {},
   "source": [
    "<h2>Web Scraping project to extract and store the price of a good from a website at pre-defined duration and store in csv form. This project also checks if the price of the good has dropped, and if yes, a mail is sent to notify the user. Some important libraries used are bs4, selenium , pandas, smtp.</h2>"
   ]
  },
  {
   "cell_type": "code",
   "execution_count": 21,
   "id": "366f8fc6-004f-456b-8732-44b2f44b208e",
   "metadata": {},
   "outputs": [],
   "source": [
    "#  importing libraries\n",
    "import pandas as pd\n",
    "from bs4 import BeautifulSoup\n",
    "from selenium import webdriver\n",
    "import selenium.common.exceptions as exceptions\n",
    "import requests\n",
    "import smtplib\n",
    "import time\n",
    "import datetime\n"
   ]
  },
  {
   "cell_type": "code",
   "execution_count": 58,
   "id": "8b352e40-3d1c-4324-ba29-7c639cb1b9e3",
   "metadata": {
    "scrolled": true
   },
   "outputs": [
    {
     "name": "stdout",
     "output_type": "stream",
     "text": [
      "Pixel 8 Pro 5G (12GB RAM) (512, Obsidian Black, New)\n",
      "109999\n",
      "5.0\n",
      "1\n"
     ]
    }
   ],
   "source": [
    "global driver\n",
    "#  connecting and fetching data from website\n",
    "URL= 'https://www.amazon.in/Pixel-Pro-12GB-Obsidian-Black/dp/B0CYPJNC2X/ref=sr_1_7?sr=8-7'\n",
    "\n",
    "options=webdriver.ChromeOptions()\n",
    "options.add_argument(\"start-maximized\")\n",
    "options.add_experimental_option(\"excludeSwitches\", [\"enable-automation\"])\n",
    "options.add_experimental_option(\"detach\",True)\n",
    "options.add_experimental_option('useAutomationExtension', False)\n",
    "try: \n",
    "    driver=webdriver.Chrome(options=options)\n",
    "    driver.get(URL)\n",
    "    time.sleep(7)\n",
    "    page_source=driver.page_source\n",
    "    soup=BeautifulSoup(page_source,\"html.parser\")\n",
    "    # print(soup)\n",
    "    title=soup.find(id=\"productTitle\").get_text().strip()\n",
    "    price=int(soup.find('span', class_=\"a-price-whole\").get_text().strip().replace(',', '').replace('.', ''))\n",
    "    rating=soup.find('span', class_=\"a-icon-alt\").get_text().strip().split()[0]\n",
    "    number_of_reviews=soup.find(id=\"acrCustomerReviewText\").get_text().strip().split()[0]\n",
    "    print(title)\n",
    "    print(price)\n",
    "    print(rating)\n",
    "    print(number_of_reviews)\n",
    "    driver.close()\n",
    "except exceptions.WebDriverException:\n",
    "    print(\"You need to download a newer version of Chrome\")\n",
    "\n",
    "\n"
   ]
  },
  {
   "cell_type": "code",
   "execution_count": 59,
   "id": "d98a8437-3d28-444c-82be-523f9d3457db",
   "metadata": {},
   "outputs": [
    {
     "data": {
      "text/plain": [
       "datetime.date(2024, 5, 16)"
      ]
     },
     "execution_count": 59,
     "metadata": {},
     "output_type": "execute_result"
    }
   ],
   "source": [
    "today=datetime.date.today()\n",
    "today"
   ]
  },
  {
   "cell_type": "code",
   "execution_count": 60,
   "id": "056204a2-1fae-4fc7-8316-9f2c8fe62d72",
   "metadata": {},
   "outputs": [],
   "source": [
    "import csv\n",
    "header=['Title','Price','Rating', 'No. of reviews', 'Date'] \n",
    "data=[title,price,rating, number_of_reviews,today]\n",
    "\n",
    "# type(data)\n",
    "# 'w' creates and swrites to csv, comment after running once to avoid overwriting\n",
    "# with open('Amazon_Web_Scraped_Dataset.csv', 'w', newline= '', encoding='UTF8') as f:\n",
    "#     writer=csv.writer(f)\n",
    "#     writer.writerow(header)\n",
    "#     writer.writerow(data)\n",
    "    \n",
    "    \n",
    "          "
   ]
  },
  {
   "cell_type": "code",
   "execution_count": 73,
   "id": "b9059176-cc76-4aa0-9981-40580b928f6a",
   "metadata": {},
   "outputs": [
    {
     "data": {
      "text/html": [
       "<div>\n",
       "<style scoped>\n",
       "    .dataframe tbody tr th:only-of-type {\n",
       "        vertical-align: middle;\n",
       "    }\n",
       "\n",
       "    .dataframe tbody tr th {\n",
       "        vertical-align: top;\n",
       "    }\n",
       "\n",
       "    .dataframe thead th {\n",
       "        text-align: right;\n",
       "    }\n",
       "</style>\n",
       "<table border=\"1\" class=\"dataframe\">\n",
       "  <thead>\n",
       "    <tr style=\"text-align: right;\">\n",
       "      <th></th>\n",
       "      <th>Title</th>\n",
       "      <th>Price</th>\n",
       "      <th>Rating</th>\n",
       "      <th>No. of reviews</th>\n",
       "      <th>Date</th>\n",
       "    </tr>\n",
       "  </thead>\n",
       "  <tbody>\n",
       "    <tr>\n",
       "      <th>0</th>\n",
       "      <td>Pixel 8 Pro 5G (12GB RAM) (512, Obsidian Black...</td>\n",
       "      <td>109999</td>\n",
       "      <td>5</td>\n",
       "      <td>1</td>\n",
       "      <td>5/16/2024</td>\n",
       "    </tr>\n",
       "    <tr>\n",
       "      <th>1</th>\n",
       "      <td>Pixel 8 Pro 5G (12GB RAM) (512, Obsidian Black...</td>\n",
       "      <td>109999</td>\n",
       "      <td>5</td>\n",
       "      <td>1</td>\n",
       "      <td>5/16/2024</td>\n",
       "    </tr>\n",
       "    <tr>\n",
       "      <th>2</th>\n",
       "      <td>Pixel 8 Pro 5G (12GB RAM) (512, Obsidian Black...</td>\n",
       "      <td>109999</td>\n",
       "      <td>5</td>\n",
       "      <td>1</td>\n",
       "      <td>5/16/2024</td>\n",
       "    </tr>\n",
       "  </tbody>\n",
       "</table>\n",
       "</div>"
      ],
      "text/plain": [
       "                                               Title   Price  Rating  \\\n",
       "0  Pixel 8 Pro 5G (12GB RAM) (512, Obsidian Black...  109999       5   \n",
       "1  Pixel 8 Pro 5G (12GB RAM) (512, Obsidian Black...  109999       5   \n",
       "2  Pixel 8 Pro 5G (12GB RAM) (512, Obsidian Black...  109999       5   \n",
       "\n",
       "   No. of reviews       Date  \n",
       "0               1  5/16/2024  \n",
       "1               1  5/16/2024  \n",
       "2               1  5/16/2024  "
      ]
     },
     "execution_count": 73,
     "metadata": {},
     "output_type": "execute_result"
    }
   ],
   "source": [
    "df=pd.read_csv('Amazon_Web_Scraped_Dataset.csv')\n",
    "df"
   ]
  },
  {
   "cell_type": "code",
   "execution_count": 61,
   "id": "1cce1a16-857b-4e5b-bb04-8174137595ad",
   "metadata": {},
   "outputs": [],
   "source": [
    "# appending data to the csv\n",
    "with open('Amazon_Web_Scraped_Dataset.csv', 'a+', newline= '', encoding='UTF8') as f:\n",
    "    writer=csv.writer(f)\n",
    "    writer.writerow(data)"
   ]
  },
  {
   "cell_type": "code",
   "execution_count": 66,
   "id": "80bf1580-b181-404a-a5b7-5a51e0f3da32",
   "metadata": {},
   "outputs": [],
   "source": [
    "def check_price():\n",
    "    URL= 'https://www.amazon.in/Pixel-Pro-12GB-Obsidian-Black/dp/B0CYPJNC2X/ref=sr_1_7?sr=8-7'\n",
    "    \n",
    "    options=webdriver.ChromeOptions()\n",
    "    options.add_argument(\"start-maximized\")\n",
    "    options.add_experimental_option(\"excludeSwitches\", [\"enable-automation\"])\n",
    "    options.add_experimental_option(\"detach\",True)\n",
    "    options.add_experimental_option('useAutomationExtension', False)\n",
    "    try: \n",
    "        driver=webdriver.Chrome(options=options)\n",
    "        driver.get(URL)\n",
    "        time.sleep(7)\n",
    "        page_source=driver.page_source\n",
    "        soup=BeautifulSoup(page_source,\"html.parser\")\n",
    "        # print(soup)\n",
    "        title=soup.find(id=\"productTitle\").get_text().strip()\n",
    "        price=int(soup.find('span', class_=\"a-price-whole\").get_text().strip().replace(',', '').replace('.', ''))\n",
    "        rating=soup.find('span', class_=\"a-icon-alt\").get_text().strip().split()[0]\n",
    "        number_of_reviews=soup.find(id=\"acrCustomerReviewText\").get_text().strip().split()[0]\n",
    "        # print(title)\n",
    "        # print(price)\n",
    "        # print(rating)\n",
    "        # print(number_of_reviews)\n",
    "        driver.close()\n",
    "    except exceptions.WebDriverException:\n",
    "        print(\"You need to download a newer version of Chrome\")\n",
    "        \n",
    "    today=datetime.date.today()\n",
    "    \n",
    "    data=[title,price,rating, number_of_reviews,today]\n",
    "\n",
    "    with open('Amazon_Web_Scraped_Dataset.csv', 'a+', newline= '', encoding='UTF8') as f:\n",
    "        writer=csv.writer(f)\n",
    "        writer.writerow(data)\n",
    "    if(price<200000):\n",
    "        send_mail()"
   ]
  },
  {
   "cell_type": "code",
   "execution_count": 71,
   "id": "5a403838-9fab-4a63-8165-8a22852c5109",
   "metadata": {},
   "outputs": [
    {
     "ename": "KeyboardInterrupt",
     "evalue": "",
     "output_type": "error",
     "traceback": [
      "\u001b[1;31m---------------------------------------------------------------------------\u001b[0m",
      "\u001b[1;31mKeyboardInterrupt\u001b[0m                         Traceback (most recent call last)",
      "Cell \u001b[1;32mIn[71], line 4\u001b[0m\n\u001b[0;32m      2\u001b[0m check_price()\n\u001b[0;32m      3\u001b[0m \u001b[38;5;66;03m# checks the price once in 24 hours (24*60*60 =86400)\u001b[39;00m\n\u001b[1;32m----> 4\u001b[0m \u001b[43mtime\u001b[49m\u001b[38;5;241;43m.\u001b[39;49m\u001b[43msleep\u001b[49m\u001b[43m(\u001b[49m\u001b[38;5;241;43m120\u001b[39;49m\u001b[43m)\u001b[49m\n",
      "\u001b[1;31mKeyboardInterrupt\u001b[0m: "
     ]
    }
   ],
   "source": [
    "# this cell is to be runned in order to fetch data periodically and automatically.\n",
    "while(True):\n",
    "    check_price()\n",
    "    # checks the price once in 24 hours (24*60*60 =86400)\n",
    "    time.sleep(120)"
   ]
  },
  {
   "cell_type": "code",
   "execution_count": 56,
   "id": "0abddf2d-f9be-4488-a8eb-9a4bf0a60086",
   "metadata": {},
   "outputs": [
    {
     "data": {
      "text/html": [
       "<div>\n",
       "<style scoped>\n",
       "    .dataframe tbody tr th:only-of-type {\n",
       "        vertical-align: middle;\n",
       "    }\n",
       "\n",
       "    .dataframe tbody tr th {\n",
       "        vertical-align: top;\n",
       "    }\n",
       "\n",
       "    .dataframe thead th {\n",
       "        text-align: right;\n",
       "    }\n",
       "</style>\n",
       "<table border=\"1\" class=\"dataframe\">\n",
       "  <thead>\n",
       "    <tr style=\"text-align: right;\">\n",
       "      <th></th>\n",
       "      <th>Title</th>\n",
       "      <th>Price</th>\n",
       "      <th>Rating</th>\n",
       "      <th>No. of reviews</th>\n",
       "      <th>Date</th>\n",
       "    </tr>\n",
       "  </thead>\n",
       "  <tbody>\n",
       "    <tr>\n",
       "      <th>0</th>\n",
       "      <td>Pixel 8 Pro 5G (12GB RAM) (512, Obsidian Black...</td>\n",
       "      <td>1,09,999.</td>\n",
       "      <td>5.0</td>\n",
       "      <td>1</td>\n",
       "      <td>2024-05-16</td>\n",
       "    </tr>\n",
       "    <tr>\n",
       "      <th>1</th>\n",
       "      <td>Pixel 8 Pro 5G (12GB RAM) (512, Obsidian Black...</td>\n",
       "      <td>1,09,999.</td>\n",
       "      <td>5.0</td>\n",
       "      <td>1</td>\n",
       "      <td>2024-05-16</td>\n",
       "    </tr>\n",
       "    <tr>\n",
       "      <th>2</th>\n",
       "      <td>Pixel 8 Pro 5G (12GB RAM) (512, Obsidian Black...</td>\n",
       "      <td>1,09,999.</td>\n",
       "      <td>5.0</td>\n",
       "      <td>1</td>\n",
       "      <td>2024-05-16</td>\n",
       "    </tr>\n",
       "    <tr>\n",
       "      <th>3</th>\n",
       "      <td>Pixel 8 Pro 5G (12GB RAM) (512, Obsidian Black...</td>\n",
       "      <td>1,09,999.</td>\n",
       "      <td>5.0</td>\n",
       "      <td>1</td>\n",
       "      <td>2024-05-16</td>\n",
       "    </tr>\n",
       "    <tr>\n",
       "      <th>4</th>\n",
       "      <td>Pixel 8 Pro 5G (12GB RAM) (512, Obsidian Black...</td>\n",
       "      <td>1,09,999.</td>\n",
       "      <td>5.0</td>\n",
       "      <td>1</td>\n",
       "      <td>2024-05-16</td>\n",
       "    </tr>\n",
       "    <tr>\n",
       "      <th>5</th>\n",
       "      <td>Pixel 8 Pro 5G (12GB RAM) (512, Obsidian Black...</td>\n",
       "      <td>1,09,999.</td>\n",
       "      <td>5.0</td>\n",
       "      <td>1</td>\n",
       "      <td>2024-05-16</td>\n",
       "    </tr>\n",
       "    <tr>\n",
       "      <th>6</th>\n",
       "      <td>Pixel 8 Pro 5G (12GB RAM) (512, Obsidian Black...</td>\n",
       "      <td>1,09,999.</td>\n",
       "      <td>5.0</td>\n",
       "      <td>1</td>\n",
       "      <td>2024-05-16</td>\n",
       "    </tr>\n",
       "  </tbody>\n",
       "</table>\n",
       "</div>"
      ],
      "text/plain": [
       "                                               Title      Price  Rating  \\\n",
       "0  Pixel 8 Pro 5G (12GB RAM) (512, Obsidian Black...  1,09,999.     5.0   \n",
       "1  Pixel 8 Pro 5G (12GB RAM) (512, Obsidian Black...  1,09,999.     5.0   \n",
       "2  Pixel 8 Pro 5G (12GB RAM) (512, Obsidian Black...  1,09,999.     5.0   \n",
       "3  Pixel 8 Pro 5G (12GB RAM) (512, Obsidian Black...  1,09,999.     5.0   \n",
       "4  Pixel 8 Pro 5G (12GB RAM) (512, Obsidian Black...  1,09,999.     5.0   \n",
       "5  Pixel 8 Pro 5G (12GB RAM) (512, Obsidian Black...  1,09,999.     5.0   \n",
       "6  Pixel 8 Pro 5G (12GB RAM) (512, Obsidian Black...  1,09,999.     5.0   \n",
       "\n",
       "   No. of reviews        Date  \n",
       "0               1  2024-05-16  \n",
       "1               1  2024-05-16  \n",
       "2               1  2024-05-16  \n",
       "3               1  2024-05-16  \n",
       "4               1  2024-05-16  \n",
       "5               1  2024-05-16  \n",
       "6               1  2024-05-16  "
      ]
     },
     "execution_count": 56,
     "metadata": {},
     "output_type": "execute_result"
    }
   ],
   "source": [
    "df=pd.read_csv('Amazon_Web_Scraped_Dataset.csv')\n",
    "df"
   ]
  },
  {
   "cell_type": "code",
   "execution_count": 70,
   "id": "e7bede00-e64d-4e01-85c5-9558c7e7dd5d",
   "metadata": {},
   "outputs": [],
   "source": [
    "def send_mail():\n",
    "    server = smtplib.SMTP_SSL('smtp.gmail.com',465)\n",
    "    server.ehlo()\n",
    "    #server.starttls()\n",
    "    server.ehlo()\n",
    "    server.login('email@gmail.com','password')\n",
    "    \n",
    "    subject = \"The phone you want is below Rs. 200000! Now is your chance to buy!\"\n",
    "    body = \"This is the moment we have been waiting for. Now is your chance to pick up the phone of your dreams. Don't mess it up! Link here: https://www.amazon.in/Pixel-Pro-12GB-Obsidian-Black/dp/B0CYPJNC2X/ref=sr_1_7?sr=8-7\"\n",
    "   \n",
    "    msg = f\"Subject: {subject}\\n\\n{body}\"\n",
    "    \n",
    "    server.sendmail(\n",
    "        'email@gmail.com',\n",
    "        'email@gmail.com',\n",
    "        msg\n",
    "     \n",
    "    )\n",
    "    "
   ]
  },
  {
   "cell_type": "code",
   "execution_count": null,
   "id": "a01a65a4-88d3-4e6f-8158-cd5744d1a053",
   "metadata": {},
   "outputs": [],
   "source": []
  }
 ],
 "metadata": {
  "kernelspec": {
   "display_name": "Python 3 (ipykernel)",
   "language": "python",
   "name": "python3"
  },
  "language_info": {
   "codemirror_mode": {
    "name": "ipython",
    "version": 3
   },
   "file_extension": ".py",
   "mimetype": "text/x-python",
   "name": "python",
   "nbconvert_exporter": "python",
   "pygments_lexer": "ipython3",
   "version": "3.10.1"
  }
 },
 "nbformat": 4,
 "nbformat_minor": 5
}
